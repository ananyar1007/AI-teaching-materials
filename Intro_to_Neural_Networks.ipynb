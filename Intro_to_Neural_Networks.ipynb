{
  "nbformat": 4,
  "nbformat_minor": 0,
  "metadata": {
    "colab": {
      "provenance": []
    },
    "kernelspec": {
      "name": "python3",
      "display_name": "Python 3"
    },
    "language_info": {
      "name": "python"
    }
  },
  "cells": [
    {
      "cell_type": "code",
      "execution_count": null,
      "metadata": {
        "id": "5S81ZyiGYnT0"
      },
      "outputs": [],
      "source": [
        " import sklearn\n",
        "from sklearn.datasets import fetch_openml\n",
        "from sklearn import metrics\n",
        "from sklearn.metrics import accuracy_score,classification_report\n",
        "from sklearn.model_selection import train_test_split\n",
        "from sklearn.tree import DecisionTreeClassifier"
      ]
    },
    {
      "cell_type": "code",
      "source": [
        "mnist = fetch_openml(\"mnist_784\")"
      ],
      "metadata": {
        "colab": {
          "base_uri": "https://localhost:8080/"
        },
        "id": "_tOyi-DAcvGv",
        "outputId": "0c2afbff-448a-43e0-e681-bd8191818923"
      },
      "execution_count": null,
      "outputs": [
        {
          "output_type": "stream",
          "name": "stderr",
          "text": [
            "/usr/local/lib/python3.10/dist-packages/sklearn/datasets/_openml.py:968: FutureWarning: The default value of `parser` will change from `'liac-arff'` to `'auto'` in 1.4. You can set `parser='auto'` to silence this warning. Therefore, an `ImportError` will be raised from 1.4 if the dataset is dense and pandas is not installed. Note that the pandas parser may return different data types. See the Notes Section in fetch_openml's API doc for details.\n",
            "  warn(\n"
          ]
        }
      ]
    },
    {
      "cell_type": "code",
      "source": [
        "mnist.DESCR"
      ],
      "metadata": {
        "colab": {
          "base_uri": "https://localhost:8080/",
          "height": 179
        },
        "id": "YvhBs2UndxCL",
        "outputId": "cd45036e-6e0b-4bcb-8c1e-6f5fc4cdce4e"
      },
      "execution_count": null,
      "outputs": [
        {
          "output_type": "execute_result",
          "data": {
            "text/plain": [
              "\"**Author**: Yann LeCun, Corinna Cortes, Christopher J.C. Burges  \\n**Source**: [MNIST Website](http://yann.lecun.com/exdb/mnist/) - Date unknown  \\n**Please cite**:  \\n\\nThe MNIST database of handwritten digits with 784 features, raw data available at: http://yann.lecun.com/exdb/mnist/. It can be split in a training set of the first 60,000 examples, and a test set of 10,000 examples  \\n\\nIt is a subset of a larger set available from NIST. The digits have been size-normalized and centered in a fixed-size image. It is a good database for people who want to try learning techniques and pattern recognition methods on real-world data while spending minimal efforts on preprocessing and formatting. The original black and white (bilevel) images from NIST were size normalized to fit in a 20x20 pixel box while preserving their aspect ratio. The resulting images contain grey levels as a result of the anti-aliasing technique used by the normalization algorithm. the images were centered in a 28x28 image by computing the center of mass of the pixels, and translating the image so as to position this point at the center of the 28x28 field.  \\n\\nWith some classification methods (particularly template-based methods, such as SVM and K-nearest neighbors), the error rate improves when the digits are centered by bounding box rather than center of mass. If you do this kind of pre-processing, you should report it in your publications. The MNIST database was constructed from NIST's NIST originally designated SD-3 as their training set and SD-1 as their test set. However, SD-3 is much cleaner and easier to recognize than SD-1. The reason for this can be found on the fact that SD-3 was collected among Census Bureau employees, while SD-1 was collected among high-school students. Drawing sensible conclusions from learning experiments requires that the result be independent of the choice of training set and test among the complete set of samples. Therefore it was necessary to build a new database by mixing NIST's datasets.  \\n\\nThe MNIST training set is composed of 30,000 patterns from SD-3 and 30,000 patterns from SD-1. Our test set was composed of 5,000 patterns from SD-3 and 5,000 patterns from SD-1. The 60,000 pattern training set contained examples from approximately 250 writers. We made sure that the sets of writers of the training set and test set were disjoint. SD-1 contains 58,527 digit images written by 500 different writers. In contrast to SD-3, where blocks of data from each writer appeared in sequence, the data in SD-1 is scrambled. Writer identities for SD-1 is available and we used this information to unscramble the writers. We then split SD-1 in two: characters written by the first 250 writers went into our new training set. The remaining 250 writers were placed in our test set. Thus we had two sets with nearly 30,000 examples each. The new training set was completed with enough examples from SD-3, starting at pattern # 0, to make a full set of 60,000 training patterns. Similarly, the new test set was completed with SD-3 examples starting at pattern # 35,000 to make a full set with 60,000 test patterns. Only a subset of 10,000 test images (5,000 from SD-1 and 5,000 from SD-3) is available on this site. The full 60,000 sample training set is available.\\n\\nDownloaded from openml.org.\""
            ],
            "application/vnd.google.colaboratory.intrinsic+json": {
              "type": "string"
            }
          },
          "metadata": {},
          "execution_count": 3
        }
      ]
    },
    {
      "cell_type": "code",
      "source": [
        "X = mnist.data\n",
        "Y = mnist.target\n"
      ],
      "metadata": {
        "id": "8gUrgkiwcxlQ"
      },
      "execution_count": null,
      "outputs": []
    },
    {
      "cell_type": "code",
      "source": [
        "X.shape #the MNIST dataset consists of 70000, 28 by 28 black and white images."
      ],
      "metadata": {
        "id": "SnEK16fZei3n",
        "colab": {
          "base_uri": "https://localhost:8080/"
        },
        "outputId": "5ae9100c-c714-4966-dd6a-20cac221e511"
      },
      "execution_count": null,
      "outputs": [
        {
          "output_type": "execute_result",
          "data": {
            "text/plain": [
              "(70000, 784)"
            ]
          },
          "metadata": {},
          "execution_count": 5
        }
      ]
    },
    {
      "cell_type": "code",
      "source": [
        " X_train, X_test, Y_train, Y_test = train_test_split(X, Y, test_size=0.33, random_state=1)"
      ],
      "metadata": {
        "id": "jmEPbEkpeGJo"
      },
      "execution_count": null,
      "outputs": []
    },
    {
      "cell_type": "markdown",
      "source": [
        "Decision Tree Classifier"
      ],
      "metadata": {
        "id": "5Z1QPP9UePoG"
      }
    },
    {
      "cell_type": "code",
      "source": [
        "clf = DecisionTreeClassifier(max_depth=10, random_state = 1)\n",
        "\n",
        "clf = clf.fit(X_train, Y_train)\n",
        "y_pred_train = clf.predict(X_train)\n",
        "y_pred_test = clf.predict(X_test)\n",
        "acc_train=metrics.accuracy_score(Y_train, y_pred_train)\n",
        "acc_test=metrics.accuracy_score(Y_test, y_pred_test)\n",
        "print(\"Decision Tree: Accuracy on train {:.3}, test {:.3}\".format(acc_train, acc_test))"
      ],
      "metadata": {
        "colab": {
          "base_uri": "https://localhost:8080/"
        },
        "id": "chSq52RdeOwt",
        "outputId": "cebbe89e-9016-4046-e3a2-f3b8b2a55858"
      },
      "execution_count": null,
      "outputs": [
        {
          "output_type": "stream",
          "name": "stdout",
          "text": [
            "Decision Tree: Accuracy on train 0.906, test 0.848\n"
          ]
        }
      ]
    },
    {
      "cell_type": "markdown",
      "source": [
        "Deep Learning"
      ],
      "metadata": {
        "id": "fkYtzjLLfBnD"
      }
    },
    {
      "cell_type": "code",
      "source": [
        "import torch\n",
        "from torch.utils.data import Dataset, DataLoader\n",
        "import numpy as np\n",
        "from PIL import Image as im\n",
        "import matplotlib.pyplot as plt\n",
        "\n",
        "\n",
        "class mnistDataset(Dataset):\n",
        "\n",
        "    def __init__(self, X,Y):\n",
        "        self.X  = X.to_numpy()\n",
        "        self.Y = Y.to_numpy().astype(np.int64)\n",
        "\n",
        "\n",
        "    def __len__(self):\n",
        "        return len(self.X)\n",
        "\n",
        "\n",
        "    def __getitem__(self, item):\n",
        "\n",
        "        sample = self.X[item]\n",
        "        target = self.Y[item]\n",
        "\n",
        "        z= (torch.tensor(sample).float())/255 - 0.5\n",
        "        z= torch.reshape(z, (1, 28, 28))\n",
        "\n",
        "\n",
        "        return (z, torch.tensor(target).long())\n",
        "\n",
        "train = mnistDataset(X_train,Y_train)\n",
        "batch_size =64\n",
        "dt= train[9]\n",
        "print(dt[0].shape)\n",
        "print(type(dt[1]))\n",
        "b = dt[0]\n",
        "b = torch.reshape(b, (28,28))\n",
        "nump_b = b.numpy()\n",
        "print(\"max\", np.max(nump_b))\n",
        "print(\"min\", np.min(nump_b))\n",
        "plt.imshow(b.numpy())\n",
        "plt.show()\n",
        "\n",
        "\n",
        "\n",
        "\n"
      ],
      "metadata": {
        "colab": {
          "base_uri": "https://localhost:8080/",
          "height": 502
        },
        "id": "ak_IvdnIm0ol",
        "outputId": "a7b88044-b762-475f-8dba-21109d9bd6bf"
      },
      "execution_count": null,
      "outputs": [
        {
          "output_type": "stream",
          "name": "stdout",
          "text": [
            "torch.Size([1, 28, 28])\n",
            "<class 'torch.Tensor'>\n",
            "max 0.5\n",
            "min -0.5\n"
          ]
        },
        {
          "output_type": "display_data",
          "data": {
            "text/plain": [
              "<Figure size 640x480 with 1 Axes>"
            ],
            "image/png": "[encoded data removed]"
          },
          "metadata": {}
        }
      ]
    },
    {
      "cell_type": "code",
      "source": [
        "trainloader = torch.utils.data.DataLoader(train, batch_size=batch_size,\n",
        "                                          shuffle=True)\n",
        "test = mnistDataset(X_test, Y_test)\n",
        "testloader = torch.utils.data.DataLoader(test, batch_size = batch_size)\n"
      ],
      "metadata": {
        "id": "BEOFezEYz5_P"
      },
      "execution_count": null,
      "outputs": []
    },
    {
      "cell_type": "code",
      "source": [
        "import torch\n",
        "import torch.nn as nn\n",
        "import torch.nn.functional as F\n",
        "import torch.optim as optim\n",
        "\n",
        "\n",
        "class Network(nn.Module):\n",
        "    def __init__(self):\n",
        "        super().__init__()\n",
        "        self.conv1 = nn.Conv2d(1, 8, 5)\n",
        "        self.pool = nn.MaxPool2d(2, 2)\n",
        "        self.fc1 = nn.Linear(8*12*12, 10)\n",
        "        self.fc2 = nn.Linear(120, 84)\n",
        "        self.fc3 = nn.Linear(84, 10)\n",
        "\n",
        "    def forward(self, x):\n",
        "        #print(\"Input\", x.size())\n",
        "        x = self.conv1(x)\n",
        "        #print(\"after conv\", x.size())\n",
        "        x=F.relu(x)\n",
        "        x=self.pool(x)\n",
        "        #print(\"after pool\", x.size())\n",
        "        bsize = x.size()[0]\n",
        "        x= torch.reshape(x,(bsize, 8*12*12))\n",
        "        x = self.fc1(x)\n",
        "        #print(\"after linear\", x.size())\n",
        "\n",
        "        \"\"\"\n",
        "        x = self.pool(F.relu(self.conv2(x)))\n",
        "        x = torch.flatten(x, 1) # flatten all dimensions except batch\n",
        "        x = F.relu(self.fc1(x))\n",
        "        x = F.relu(self.fc2(x))\n",
        "        x = self.fc3(x)\n",
        "        \"\"\"\n",
        "        return x\n",
        "\n",
        "\n",
        "net = Network()"
      ],
      "metadata": {
        "id": "j5p08L3hfDJ1"
      },
      "execution_count": null,
      "outputs": []
    },
    {
      "cell_type": "code",
      "source": [
        "criterion = nn.CrossEntropyLoss()\n",
        "optimizer = optim.SGD(net.parameters(), lr=0.001, momentum=0.9)"
      ],
      "metadata": {
        "id": "DeyPnq-Mf4IK"
      },
      "execution_count": null,
      "outputs": []
    },
    {
      "cell_type": "code",
      "source": [
        "for epoch in range(10):  # loop over the dataset multiple times\n",
        "\n",
        "    running_loss = 0.0\n",
        "    for i, data in enumerate(trainloader):\n",
        "        # get the inputs; data is a list of [inputs, labels]\n",
        "        inputs, labels = data\n",
        "\n",
        "        # zero the parameter gradients\n",
        "        optimizer.zero_grad()\n",
        "\n",
        "        # forward + backward + optimize\n",
        "        outputs = net(inputs)\n",
        "        loss = criterion(outputs, labels)\n",
        "        loss.backward()\n",
        "        optimizer.step()\n",
        "\n",
        "        # print statistics\n",
        "        running_loss += loss.item()\n",
        "        if i % 200 == 199:    # print every 2000 mini-batches\n",
        "            print(f'[{epoch + 1}, {i + 1:5d}] loss: {running_loss / 2000:.3f}')\n",
        "            running_loss = 0.0\n",
        "\n",
        "print('Finished Training')"
      ],
      "metadata": {
        "colab": {
          "base_uri": "https://localhost:8080/"
        },
        "id": "uT258By7f9DA",
        "outputId": "efeb5aaa-f9cc-4b6c-a67c-8311565f861d"
      },
      "execution_count": null,
      "outputs": [
        {
          "output_type": "stream",
          "name": "stdout",
          "text": [
            "[1,   200] loss: 0.204\n",
            "[1,   400] loss: 0.090\n",
            "[1,   600] loss: 0.049\n",
            "[2,   200] loss: 0.038\n",
            "[2,   400] loss: 0.032\n",
            "[2,   600] loss: 0.030\n",
            "[3,   200] loss: 0.028\n",
            "[3,   400] loss: 0.026\n",
            "[3,   600] loss: 0.026\n",
            "[4,   200] loss: 0.022\n",
            "[4,   400] loss: 0.022\n",
            "[4,   600] loss: 0.022\n",
            "[5,   200] loss: 0.021\n",
            "[5,   400] loss: 0.019\n",
            "[5,   600] loss: 0.019\n",
            "[6,   200] loss: 0.017\n",
            "[6,   400] loss: 0.017\n",
            "[6,   600] loss: 0.017\n",
            "[7,   200] loss: 0.016\n",
            "[7,   400] loss: 0.015\n",
            "[7,   600] loss: 0.015\n",
            "[8,   200] loss: 0.015\n",
            "[8,   400] loss: 0.014\n",
            "[8,   600] loss: 0.013\n",
            "[9,   200] loss: 0.013\n",
            "[9,   400] loss: 0.013\n",
            "[9,   600] loss: 0.013\n",
            "[10,   200] loss: 0.012\n",
            "[10,   400] loss: 0.011\n",
            "[10,   600] loss: 0.013\n",
            "Finished Training\n"
          ]
        }
      ]
    },
    {
      "cell_type": "code",
      "source": [
        "correct = 0\n",
        "total = 0\n",
        "# since we're not training, we don't need to calculate the gradients for our outputs\n",
        "with torch.no_grad():\n",
        "    for data in testloader:\n",
        "        images, labels = data\n",
        "        # calculate outputs by running images through the network\n",
        "        outputs = net(images)\n",
        "        # the class with the highest probability is what we choose as prediction\n",
        "        _, predicted = torch.max(outputs.data, 1)\n",
        "        total += labels.size(0)\n",
        "        correct += (predicted == labels).sum().item()\n",
        "\n",
        "print(f'Accuracy of the network on the test images: {100 * correct // total} %')\n",
        "print(total)"
      ],
      "metadata": {
        "colab": {
          "base_uri": "https://localhost:8080/"
        },
        "id": "gyjprYjNf9qV",
        "outputId": "40cf47ef-3475-4a87-b960-2bc080a6fe8c"
      },
      "execution_count": null,
      "outputs": [
        {
          "output_type": "stream",
          "name": "stdout",
          "text": [
            "Accuracy of the network on the test images: 96 %\n",
            "23100\n"
          ]
        }
      ]
    }
  ]
}